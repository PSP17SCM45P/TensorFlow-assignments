{
 "cells": [
  {
   "cell_type": "code",
   "execution_count": 1,
   "metadata": {},
   "outputs": [
    {
     "name": "stderr",
     "output_type": "stream",
     "text": [
      "C:\\Users\\Prajakta Pardeshi\\Anaconda3\\lib\\site-packages\\h5py\\__init__.py:34: FutureWarning: Conversion of the second argument of issubdtype from `float` to `np.floating` is deprecated. In future, it will be treated as `np.float64 == np.dtype(float).type`.\n",
      "  from ._conv import register_converters as _register_converters\n"
     ]
    }
   ],
   "source": [
    "import numpy as np\n",
    "import tensorflow as tf\n",
    "import matplotlib.patches as mpatches\n",
    "import matplotlib.pyplot as plt\n",
    "%matplotlib inline\n",
    "plt.rcParams['figure.figsize'] = (10, 6)"
   ]
  },
  {
   "cell_type": "markdown",
   "metadata": {},
   "source": [
    "we will generate random data points and define a linear relation, we'll use TensorFlow to adjust and get the right parameters."
   ]
  },
  {
   "cell_type": "code",
   "execution_count": 2,
   "metadata": {
    "collapsed": true
   },
   "outputs": [],
   "source": [
    "x_data = np.random.rand(100).astype(np.float32)"
   ]
  },
  {
   "cell_type": "code",
   "execution_count": 3,
   "metadata": {},
   "outputs": [
    {
     "data": {
      "text/plain": [
       "array([0.83790094, 0.88431644, 0.45077452, 0.5852686 , 0.02014722,\n",
       "       0.481875  , 0.2239878 , 0.07187194, 0.6941896 , 0.8159978 ,\n",
       "       0.44049546, 0.06441409, 0.27912807, 0.5287273 , 0.35300365,\n",
       "       0.65532875, 0.7968739 , 0.0483299 , 0.83766127, 0.34765977,\n",
       "       0.45818618, 0.19027099, 0.33308855, 0.5103975 , 0.19899686,\n",
       "       0.6732592 , 0.6233599 , 0.81559837, 0.12978968, 0.41784173,\n",
       "       0.6911893 , 0.04803126, 0.11972558, 0.77861327, 0.343459  ,\n",
       "       0.7919025 , 0.22991881, 0.43229294, 0.80805445, 0.26328552,\n",
       "       0.46125785, 0.97450215, 0.6420018 , 0.47727254, 0.81117266,\n",
       "       0.72479904, 0.74876887, 0.500342  , 0.8093307 , 0.2425764 ,\n",
       "       0.9396131 , 0.47699726, 0.67774767, 0.99715763, 0.68333   ,\n",
       "       0.78415364, 0.6762395 , 0.21833438, 0.33008537, 0.8660605 ,\n",
       "       0.40398955, 0.9986053 , 0.26035094, 0.16623257, 0.59387094,\n",
       "       0.3955934 , 0.5084917 , 0.39966315, 0.31474698, 0.9859409 ,\n",
       "       0.25535983, 0.43436968, 0.41284826, 0.05964472, 0.6724064 ,\n",
       "       0.8332918 , 0.98992515, 0.31664357, 0.31911328, 0.9086199 ,\n",
       "       0.4055231 , 0.8061784 , 0.71025705, 0.05491817, 0.71349037,\n",
       "       0.75839347, 0.8823953 , 0.25730702, 0.7516522 , 0.3273199 ,\n",
       "       0.90710324, 0.7930586 , 0.4615464 , 0.06078929, 0.5880935 ,\n",
       "       0.5126166 , 0.2828613 , 0.6013017 , 0.9165205 , 0.7000756 ],\n",
       "      dtype=float32)"
      ]
     },
     "execution_count": 3,
     "metadata": {},
     "output_type": "execute_result"
    }
   ],
   "source": [
    "x_data"
   ]
  },
  {
   "cell_type": "code",
   "execution_count": 4,
   "metadata": {
    "collapsed": true
   },
   "outputs": [],
   "source": [
    "y_data = x_data * 3 + 2\n",
    "y_data = np.vectorize(lambda y: y + np.random.normal(loc=0.0, scale=0.1))(y_data)"
   ]
  },
  {
   "cell_type": "markdown",
   "metadata": {},
   "source": [
    "Using linear regression equation"
   ]
  },
  {
   "cell_type": "code",
   "execution_count": 7,
   "metadata": {},
   "outputs": [
    {
     "data": {
      "text/plain": [
       "array([4.38422944, 4.75562585, 3.34876493, 3.8813052 , 2.02844473,\n",
       "       3.41678412, 2.50940182, 2.19236257, 4.11250241, 4.34056191,\n",
       "       3.41980003, 2.2892471 , 2.83743446, 3.55006757, 3.06250488,\n",
       "       3.94867389, 4.29577163, 2.21268477, 4.63497541, 3.01921658,\n",
       "       3.38091619, 2.47414116, 2.9084338 , 3.59579841, 2.70142612,\n",
       "       4.05583142, 3.92643702, 4.34324534, 2.46187874, 3.16307881,\n",
       "       4.05419385, 2.22231803, 2.37894803, 4.27805348, 3.0577853 ,\n",
       "       4.43280176, 2.87438327, 3.05606846, 4.17424094, 2.70107138,\n",
       "       3.45426803, 4.88973622, 3.85560155, 3.34111715, 4.37413563,\n",
       "       4.32938958, 4.26075411, 3.55555255, 4.41057433, 2.73673732,\n",
       "       4.66994751, 3.55602372, 4.02440881, 5.07053464, 4.07054533,\n",
       "       4.35040895, 4.09056485, 2.92172268, 3.12772351, 4.7923451 ,\n",
       "       3.28198964, 5.06688837, 2.73073304, 2.72425112, 3.88228674,\n",
       "       2.94056259, 3.23817817, 3.13618033, 3.0741931 , 4.97524113,\n",
       "       2.78432011, 3.45757704, 3.28241023, 2.28412472, 4.0827149 ,\n",
       "       4.37381299, 4.99149526, 3.08982689, 2.98384002, 4.8160965 ,\n",
       "       3.04493543, 4.28586733, 4.11369433, 2.02107805, 4.11491544,\n",
       "       4.225459  , 4.76140494, 2.87171206, 4.19720947, 3.03205375,\n",
       "       4.6368495 , 4.33510664, 3.29201676, 2.28603357, 3.75235974,\n",
       "       3.54246437, 2.8574387 , 3.72900406, 4.50718842, 4.20362737])"
      ]
     },
     "execution_count": 7,
     "metadata": {},
     "output_type": "execute_result"
    }
   ],
   "source": [
    "y_data"
   ]
  },
  {
   "cell_type": "markdown",
   "metadata": {},
   "source": [
    "First, we initialize the variables a and b, with any random guess, and then we define the linear function:"
   ]
  },
  {
   "cell_type": "code",
   "execution_count": 8,
   "metadata": {
    "collapsed": true
   },
   "outputs": [],
   "source": [
    "a = tf.Variable(1.0)\n",
    "b = tf.Variable(0.2)\n",
    "y = a * x_data + b"
   ]
  },
  {
   "cell_type": "markdown",
   "metadata": {},
   "source": [
    "In a linear regression, we minimize the squared error of the equation that we want to adjust minus the target values (the data that we have), so we define the equation to be minimized as loss.\n",
    "To find Loss's value, we use tf.reduce_mean(). This function finds the mean of a multidimensional tensor, and the result can have a diferent dimension."
   ]
  },
  {
   "cell_type": "code",
   "execution_count": 10,
   "metadata": {
    "collapsed": true
   },
   "outputs": [],
   "source": [
    "loss = tf.reduce_mean(tf.square(y - y_data))"
   ]
  },
  {
   "cell_type": "markdown",
   "metadata": {},
   "source": [
    "Then, we define the optimizer method. Here we will use a simple gradient descent with a learning rate of 0.5: \n",
    "\n",
    "Now we will define the training method of our graph, what method we will use for minimize the loss? We will use the tf.train.GradientDescentOptimizer.\n",
    ".minimize()__ will minimize the error function of our optimizer, resulting in a better model."
   ]
  },
  {
   "cell_type": "code",
   "execution_count": 11,
   "metadata": {
    "collapsed": true
   },
   "outputs": [],
   "source": [
    "optimizer = tf.train.GradientDescentOptimizer(0.5)\n",
    "train = optimizer.minimize(loss)"
   ]
  },
  {
   "cell_type": "markdown",
   "metadata": {},
   "source": [
    "Don't forget to initialize the variables before executing a graph:"
   ]
  },
  {
   "cell_type": "code",
   "execution_count": 12,
   "metadata": {
    "collapsed": true
   },
   "outputs": [],
   "source": [
    "init = tf.global_variables_initializer()\n",
    "sess = tf.Session()\n",
    "sess.run(init)"
   ]
  },
  {
   "cell_type": "markdown",
   "metadata": {},
   "source": [
    "Now we are ready to start the optimization and run the graph:"
   ]
  },
  {
   "cell_type": "code",
   "execution_count": 13,
   "metadata": {},
   "outputs": [
    {
     "name": "stdout",
     "output_type": "stream",
     "text": [
      "0 [1.0, 0.2]\n",
      "5 [2.4262166, 2.306888]\n",
      "10 [2.552579, 2.239868]\n",
      "15 [2.6490326, 2.1977777]\n",
      "20 [2.7209618, 2.157323]\n",
      "25 [2.7746062, 2.1271522]\n",
      "30 [2.8146138, 2.104651]\n",
      "35 [2.844451, 2.0878696]\n",
      "40 [2.8667035, 2.0753543]\n",
      "45 [2.8832994, 2.0660203]\n",
      "50 [2.8956764, 2.0590591]\n",
      "55 [2.904907, 2.0538678]\n",
      "60 [2.911791, 2.049996]\n",
      "65 [2.9169252, 2.0466256]\n",
      "70 [2.9207544, 2.0449548]\n",
      "75 [2.9240873, 2.0430803]\n",
      "80 [2.9257398, 2.042151]\n",
      "85 [2.927328, 2.0412576]\n",
      "90 [2.9285126, 2.04048]\n",
      "95 [2.929396, 2.0400114]\n"
     ]
    }
   ],
   "source": [
    "train_data = []\n",
    "for step in range(100):\n",
    "    evals = sess.run([train,a,b])[1:]\n",
    "    if step % 5 == 0:\n",
    "        print(step, evals)\n",
    "        train_data.append(evals)"
   ]
  },
  {
   "cell_type": "code",
   "execution_count": 14,
   "metadata": {},
   "outputs": [
    {
     "data": {
      "image/png": "[encoded data removed]",
      "text/plain": [
       "<matplotlib.figure.Figure at 0x2beca0935f8>"
      ]
     },
     "metadata": {},
     "output_type": "display_data"
    }
   ],
   "source": [
    "converter = plt.colors\n",
    "cr, cg, cb = (1.0, 1.0, 0.0)\n",
    "for f in train_data:\n",
    "    cb += 1.0 / len(train_data)\n",
    "    cg -= 1.0 / len(train_data)\n",
    "    if cb > 1.0: cb = 1.0\n",
    "    if cg < 0.0: cg = 0.0\n",
    "    [a, b] = f\n",
    "    f_y = np.vectorize(lambda x: a*x + b)(x_data)\n",
    "    line = plt.plot(x_data, f_y)\n",
    "    plt.setp(line, color=(cr,cg,cb))\n",
    "\n",
    "plt.plot(x_data, y_data, 'ro')\n",
    "\n",
    "\n",
    "green_line = mpatches.Patch(color='red', label='Data Points')\n",
    "\n",
    "plt.legend(handles=[green_line])\n",
    "\n",
    "plt.show()"
   ]
  },
  {
   "cell_type": "code",
   "execution_count": null,
   "metadata": {
    "collapsed": true
   },
   "outputs": [],
   "source": []
  }
 ],
 "metadata": {
  "kernelspec": {
   "display_name": "Python 3",
   "language": "python",
   "name": "python3"
  },
  "language_info": {
   "codemirror_mode": {
    "name": "ipython",
    "version": 3
   },
   "file_extension": ".py",
   "mimetype": "text/x-python",
   "name": "python",
   "nbconvert_exporter": "python",
   "pygments_lexer": "ipython3",
   "version": "3.6.4"
  }
 },
 "nbformat": 4,
 "nbformat_minor": 2
}
